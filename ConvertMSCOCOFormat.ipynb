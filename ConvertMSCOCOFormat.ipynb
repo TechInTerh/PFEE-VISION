{
  "cells": [
    {
      "cell_type": "code",
      "execution_count": 1,
      "metadata": {
        "id": "J5VUpWE5P6eo"
      },
      "outputs": [],
      "source": [
        "import pandas as pd\n",
        "import numpy as np"
      ]
    },
    {
      "cell_type": "code",
      "execution_count": 2,
      "metadata": {
        "colab": {
          "base_uri": "https://localhost:8080/",
          "height": 468
        },
        "id": "_-uOYSTjP6er",
        "outputId": "ffa422e9-352e-4774-82b1-9230c5c2d9fd"
      },
      "outputs": [
        {
          "output_type": "execute_result",
          "data": {
            "text/plain": [
              "                       REFERENCE  \\\n",
              "0                  SPA 82 A 2979   \n",
              "1             D0388-020-001-2179   \n",
              "2             D0370-002-001-0009   \n",
              "3             D0370-002-001-0010   \n",
              "4             D0370-002-001-0011   \n",
              "...                          ...   \n",
              "132114  2021_ECPAD_053_X_003_435   \n",
              "132115  2021_ECPAD_053_X_003_438   \n",
              "132116  2021_ECPAD_053_X_003_439   \n",
              "132117  2021_ECPAD_053_X_003_444   \n",
              "132118  2021_ECPAD_053_X_003_445   \n",
              "\n",
              "                                                    TITRE  \\\n",
              "0       Chanak Kalessi. Vue de la ville. [Légende d'or...   \n",
              "1       (F[or]t D[auphin]). Bastion du fort Flacourt. ...   \n",
              "2                    Mansouria. 1958. [légende d'origine]   \n",
              "3                    Mansouria. 1958. [légende d'origine]   \n",
              "4                    Mansouria. 1958. [légende d'origine]   \n",
              "...                                                   ...   \n",
              "132114              Le musée de l'Ordre de la Libération.   \n",
              "132115              Le musée de l'Ordre de la Libération.   \n",
              "132116              Le musée de l'Ordre de la Libération.   \n",
              "132117              Le musée de l'Ordre de la Libération.   \n",
              "132118              Le musée de l'Ordre de la Libération.   \n",
              "\n",
              "                                                   MOTCLE Unnamed: 3  \\\n",
              "0       Militaire ; Ville ; Paysage ; Transport mariti...        NaN   \n",
              "1       Infrastructure militaire ; Bastion ; Architect...        NaN   \n",
              "2       Population civile ; Soigner ; Béret ; Montre ;...        NaN   \n",
              "3       Population civile ; Soigner ; Béret ; Montre ;...        NaN   \n",
              "4       Population civile ; Soigner ; Troupes aéroport...        NaN   \n",
              "...                                                   ...        ...   \n",
              "132114  Musée ; Libération ; Drapeau ; Armée Allemagne...        NaN   \n",
              "132115   Musée ; Libération ; Drapeau ; Croix de Lorraine        NaN   \n",
              "132116   Musée ; Libération ; Drapeau ; Croix de Lorraine        NaN   \n",
              "132117  Musée ; Libération ; Drapeau ; Armée Allemagne...        NaN   \n",
              "132118  Musée ; Libération ; Drapeau ; Armée Allemagne...        NaN   \n",
              "\n",
              "       Unnamed: 4  \n",
              "0             NaN  \n",
              "1             NaN  \n",
              "2             NaN  \n",
              "3             NaN  \n",
              "4             NaN  \n",
              "...           ...  \n",
              "132114        NaN  \n",
              "132115        NaN  \n",
              "132116        NaN  \n",
              "132117        NaN  \n",
              "132118        NaN  \n",
              "\n",
              "[132119 rows x 5 columns]"
            ],
            "text/html": [
              "\n",
              "  <div id=\"df-27de5044-8e9a-49d8-a0c6-5b3e17f68ad4\">\n",
              "    <div class=\"colab-df-container\">\n",
              "      <div>\n",
              "<style scoped>\n",
              "    .dataframe tbody tr th:only-of-type {\n",
              "        vertical-align: middle;\n",
              "    }\n",
              "\n",
              "    .dataframe tbody tr th {\n",
              "        vertical-align: top;\n",
              "    }\n",
              "\n",
              "    .dataframe thead th {\n",
              "        text-align: right;\n",
              "    }\n",
              "</style>\n",
              "<table border=\"1\" class=\"dataframe\">\n",
              "  <thead>\n",
              "    <tr style=\"text-align: right;\">\n",
              "      <th></th>\n",
              "      <th>REFERENCE</th>\n",
              "      <th>TITRE</th>\n",
              "      <th>MOTCLE</th>\n",
              "      <th>Unnamed: 3</th>\n",
              "      <th>Unnamed: 4</th>\n",
              "    </tr>\n",
              "  </thead>\n",
              "  <tbody>\n",
              "    <tr>\n",
              "      <th>0</th>\n",
              "      <td>SPA 82 A 2979</td>\n",
              "      <td>Chanak Kalessi. Vue de la ville. [Légende d'or...</td>\n",
              "      <td>Militaire ; Ville ; Paysage ; Transport mariti...</td>\n",
              "      <td>NaN</td>\n",
              "      <td>NaN</td>\n",
              "    </tr>\n",
              "    <tr>\n",
              "      <th>1</th>\n",
              "      <td>D0388-020-001-2179</td>\n",
              "      <td>(F[or]t D[auphin]). Bastion du fort Flacourt. ...</td>\n",
              "      <td>Infrastructure militaire ; Bastion ; Architect...</td>\n",
              "      <td>NaN</td>\n",
              "      <td>NaN</td>\n",
              "    </tr>\n",
              "    <tr>\n",
              "      <th>2</th>\n",
              "      <td>D0370-002-001-0009</td>\n",
              "      <td>Mansouria. 1958. [légende d'origine]</td>\n",
              "      <td>Population civile ; Soigner ; Béret ; Montre ;...</td>\n",
              "      <td>NaN</td>\n",
              "      <td>NaN</td>\n",
              "    </tr>\n",
              "    <tr>\n",
              "      <th>3</th>\n",
              "      <td>D0370-002-001-0010</td>\n",
              "      <td>Mansouria. 1958. [légende d'origine]</td>\n",
              "      <td>Population civile ; Soigner ; Béret ; Montre ;...</td>\n",
              "      <td>NaN</td>\n",
              "      <td>NaN</td>\n",
              "    </tr>\n",
              "    <tr>\n",
              "      <th>4</th>\n",
              "      <td>D0370-002-001-0011</td>\n",
              "      <td>Mansouria. 1958. [légende d'origine]</td>\n",
              "      <td>Population civile ; Soigner ; Troupes aéroport...</td>\n",
              "      <td>NaN</td>\n",
              "      <td>NaN</td>\n",
              "    </tr>\n",
              "    <tr>\n",
              "      <th>...</th>\n",
              "      <td>...</td>\n",
              "      <td>...</td>\n",
              "      <td>...</td>\n",
              "      <td>...</td>\n",
              "      <td>...</td>\n",
              "    </tr>\n",
              "    <tr>\n",
              "      <th>132114</th>\n",
              "      <td>2021_ECPAD_053_X_003_435</td>\n",
              "      <td>Le musée de l'Ordre de la Libération.</td>\n",
              "      <td>Musée ; Libération ; Drapeau ; Armée Allemagne...</td>\n",
              "      <td>NaN</td>\n",
              "      <td>NaN</td>\n",
              "    </tr>\n",
              "    <tr>\n",
              "      <th>132115</th>\n",
              "      <td>2021_ECPAD_053_X_003_438</td>\n",
              "      <td>Le musée de l'Ordre de la Libération.</td>\n",
              "      <td>Musée ; Libération ; Drapeau ; Croix de Lorraine</td>\n",
              "      <td>NaN</td>\n",
              "      <td>NaN</td>\n",
              "    </tr>\n",
              "    <tr>\n",
              "      <th>132116</th>\n",
              "      <td>2021_ECPAD_053_X_003_439</td>\n",
              "      <td>Le musée de l'Ordre de la Libération.</td>\n",
              "      <td>Musée ; Libération ; Drapeau ; Croix de Lorraine</td>\n",
              "      <td>NaN</td>\n",
              "      <td>NaN</td>\n",
              "    </tr>\n",
              "    <tr>\n",
              "      <th>132117</th>\n",
              "      <td>2021_ECPAD_053_X_003_444</td>\n",
              "      <td>Le musée de l'Ordre de la Libération.</td>\n",
              "      <td>Musée ; Libération ; Drapeau ; Armée Allemagne...</td>\n",
              "      <td>NaN</td>\n",
              "      <td>NaN</td>\n",
              "    </tr>\n",
              "    <tr>\n",
              "      <th>132118</th>\n",
              "      <td>2021_ECPAD_053_X_003_445</td>\n",
              "      <td>Le musée de l'Ordre de la Libération.</td>\n",
              "      <td>Musée ; Libération ; Drapeau ; Armée Allemagne...</td>\n",
              "      <td>NaN</td>\n",
              "      <td>NaN</td>\n",
              "    </tr>\n",
              "  </tbody>\n",
              "</table>\n",
              "<p>132119 rows × 5 columns</p>\n",
              "</div>\n",
              "      <button class=\"colab-df-convert\" onclick=\"convertToInteractive('df-27de5044-8e9a-49d8-a0c6-5b3e17f68ad4')\"\n",
              "              title=\"Convert this dataframe to an interactive table.\"\n",
              "              style=\"display:none;\">\n",
              "        \n",
              "  <svg xmlns=\"http://www.w3.org/2000/svg\" height=\"24px\"viewBox=\"0 0 24 24\"\n",
              "       width=\"24px\">\n",
              "    <path d=\"M0 0h24v24H0V0z\" fill=\"none\"/>\n",
              "    <path d=\"M18.56 5.44l.94 2.06.94-2.06 2.06-.94-2.06-.94-.94-2.06-.94 2.06-2.06.94zm-11 1L8.5 8.5l.94-2.06 2.06-.94-2.06-.94L8.5 2.5l-.94 2.06-2.06.94zm10 10l.94 2.06.94-2.06 2.06-.94-2.06-.94-.94-2.06-.94 2.06-2.06.94z\"/><path d=\"M17.41 7.96l-1.37-1.37c-.4-.4-.92-.59-1.43-.59-.52 0-1.04.2-1.43.59L10.3 9.45l-7.72 7.72c-.78.78-.78 2.05 0 2.83L4 21.41c.39.39.9.59 1.41.59.51 0 1.02-.2 1.41-.59l7.78-7.78 2.81-2.81c.8-.78.8-2.07 0-2.86zM5.41 20L4 18.59l7.72-7.72 1.47 1.35L5.41 20z\"/>\n",
              "  </svg>\n",
              "      </button>\n",
              "      \n",
              "  <style>\n",
              "    .colab-df-container {\n",
              "      display:flex;\n",
              "      flex-wrap:wrap;\n",
              "      gap: 12px;\n",
              "    }\n",
              "\n",
              "    .colab-df-convert {\n",
              "      background-color: #E8F0FE;\n",
              "      border: none;\n",
              "      border-radius: 50%;\n",
              "      cursor: pointer;\n",
              "      display: none;\n",
              "      fill: #1967D2;\n",
              "      height: 32px;\n",
              "      padding: 0 0 0 0;\n",
              "      width: 32px;\n",
              "    }\n",
              "\n",
              "    .colab-df-convert:hover {\n",
              "      background-color: #E2EBFA;\n",
              "      box-shadow: 0px 1px 2px rgba(60, 64, 67, 0.3), 0px 1px 3px 1px rgba(60, 64, 67, 0.15);\n",
              "      fill: #174EA6;\n",
              "    }\n",
              "\n",
              "    [theme=dark] .colab-df-convert {\n",
              "      background-color: #3B4455;\n",
              "      fill: #D2E3FC;\n",
              "    }\n",
              "\n",
              "    [theme=dark] .colab-df-convert:hover {\n",
              "      background-color: #434B5C;\n",
              "      box-shadow: 0px 1px 3px 1px rgba(0, 0, 0, 0.15);\n",
              "      filter: drop-shadow(0px 1px 2px rgba(0, 0, 0, 0.3));\n",
              "      fill: #FFFFFF;\n",
              "    }\n",
              "  </style>\n",
              "\n",
              "      <script>\n",
              "        const buttonEl =\n",
              "          document.querySelector('#df-27de5044-8e9a-49d8-a0c6-5b3e17f68ad4 button.colab-df-convert');\n",
              "        buttonEl.style.display =\n",
              "          google.colab.kernel.accessAllowed ? 'block' : 'none';\n",
              "\n",
              "        async function convertToInteractive(key) {\n",
              "          const element = document.querySelector('#df-27de5044-8e9a-49d8-a0c6-5b3e17f68ad4');\n",
              "          const dataTable =\n",
              "            await google.colab.kernel.invokeFunction('convertToInteractive',\n",
              "                                                     [key], {});\n",
              "          if (!dataTable) return;\n",
              "\n",
              "          const docLinkHtml = 'Like what you see? Visit the ' +\n",
              "            '<a target=\"_blank\" href=https://colab.research.google.com/notebooks/data_table.ipynb>data table notebook</a>'\n",
              "            + ' to learn more about interactive tables.';\n",
              "          element.innerHTML = '';\n",
              "          dataTable['output_type'] = 'display_data';\n",
              "          await google.colab.output.renderOutput(dataTable, element);\n",
              "          const docLink = document.createElement('div');\n",
              "          docLink.innerHTML = docLinkHtml;\n",
              "          element.appendChild(docLink);\n",
              "        }\n",
              "      </script>\n",
              "    </div>\n",
              "  </div>\n",
              "  "
            ]
          },
          "metadata": {},
          "execution_count": 2
        }
      ],
      "source": [
        "df = pd.read_excel(\"Export_reference__mots_clefs.xlsx\")\n",
        "df"
      ]
    },
    {
      "cell_type": "code",
      "execution_count": 3,
      "metadata": {
        "colab": {
          "base_uri": "https://localhost:8080/"
        },
        "id": "oIRfPHJSP6er",
        "outputId": "0021c661-bdd1-46b0-d401-24facbc2a259"
      },
      "outputs": [
        {
          "output_type": "execute_result",
          "data": {
            "text/plain": [
              "REFERENCE     object\n",
              "TITRE         object\n",
              "MOTCLE        object\n",
              "Unnamed: 3    object\n",
              "Unnamed: 4    object\n",
              "dtype: object"
            ]
          },
          "metadata": {},
          "execution_count": 3
        }
      ],
      "source": [
        "df.dtypes"
      ]
    },
    {
      "cell_type": "code",
      "execution_count": 4,
      "metadata": {
        "id": "jlWE6vM_P6er"
      },
      "outputs": [],
      "source": [
        "df = df.drop([\"Unnamed: 3\",\"Unnamed: 4\"], axis=1).astype(\"str\")\n"
      ]
    },
    {
      "cell_type": "code",
      "execution_count": 5,
      "metadata": {
        "colab": {
          "base_uri": "https://localhost:8080/"
        },
        "id": "Un8pcgBrP6es",
        "outputId": "891cfc23-23a1-4beb-e4c1-7592bd32546a"
      },
      "outputs": [
        {
          "output_type": "execute_result",
          "data": {
            "text/plain": [
              "0         [Militaire ,  Ville ,  Paysage ,  Transport ma...\n",
              "1         [Infrastructure militaire ,  Bastion ,  Archit...\n",
              "2         [Population civile ,  Soigner ,  Béret ,  Mont...\n",
              "3         [Population civile ,  Soigner ,  Béret ,  Mont...\n",
              "4         [Population civile ,  Soigner ,  Troupes aérop...\n",
              "                                ...                        \n",
              "132114    [Musée ,  Libération ,  Drapeau ,  Armée Allem...\n",
              "132115    [Musée ,  Libération ,  Drapeau ,  Croix de Lo...\n",
              "132116    [Musée ,  Libération ,  Drapeau ,  Croix de Lo...\n",
              "132117    [Musée ,  Libération ,  Drapeau ,  Armée Allem...\n",
              "132118    [Musée ,  Libération ,  Drapeau ,  Armée Allem...\n",
              "Name: MOTCLE, Length: 132119, dtype: object"
            ]
          },
          "metadata": {},
          "execution_count": 5
        }
      ],
      "source": [
        "df_mot_cle = df[\"MOTCLE\"]\n",
        "\n",
        "def split_word(el : str):\n",
        "    return el.split(\";\")\n",
        "df_mot_cle = df_mot_cle.apply(split_word)\n",
        "df_mot_cle"
      ]
    },
    {
      "cell_type": "code",
      "execution_count": 6,
      "metadata": {
        "colab": {
          "base_uri": "https://localhost:8080/"
        },
        "id": "DceEFtHnP6es",
        "outputId": "058bab4d-74a8-4ce7-b0f5-9708911042b3"
      },
      "outputs": [
        {
          "output_type": "execute_result",
          "data": {
            "text/plain": [
              "0     [Présentation de matériel ,  1er REC ,  AMX-10...\n",
              "1     [Cérémonie ,  Camp militaire ,  Remise de déco...\n",
              "2     [Aéroport ,  Evacuation Sanitaire ,  Arrivée ,...\n",
              "3     [Opération Barkhane ,  Armée Mali ,  Casque , ...\n",
              "4     [Population civile ,  Portrait ,  Femme ,  Per...\n",
              "                            ...                        \n",
              "95    [Fonds privés ,  Mer ,  Côte ,  Littoral ,  Em...\n",
              "96         [Echelle ,  Visite ,  Forêt ,  Fonds privés]\n",
              "97                 [Ferme ,  Ruine ,  Paysage ,  Arbre]\n",
              "98                                   [Chien ,  Village]\n",
              "99    [Prise d'armes ,  DGA ,  Remise de décoration ...\n",
              "Name: MOTCLE, Length: 100, dtype: object"
            ]
          },
          "metadata": {},
          "execution_count": 6
        }
      ],
      "source": [
        "import random\n",
        "random.shuffle(df_mot_cle)\n",
        "df_mot_cle[:100]"
      ]
    },
    {
      "cell_type": "markdown",
      "metadata": {
        "id": "mfJvCLh9P6es"
      },
      "source": [
        "Perform a One hot encoding with sklearn"
      ]
    },
    {
      "cell_type": "code",
      "execution_count": 7,
      "metadata": {
        "id": "HwsXsdOzP6et"
      },
      "outputs": [],
      "source": [
        "def delete_quote(l: [str]):\n",
        "    for i,s in enumerate(l):#type: str\n",
        "        l[i] = s.replace('\"',\"\").replace(\" \",\"\")\n",
        "    return l\n",
        "df_mot_cle = df_mot_cle.map(delete_quote)"
      ]
    },
    {
      "cell_type": "code",
      "execution_count": 8,
      "metadata": {
        "colab": {
          "base_uri": "https://localhost:8080/",
          "height": 505
        },
        "id": "ysGXvvH6P6et",
        "outputId": "304946c5-718a-42d3-d091-7795afc0a6bb"
      },
      "outputs": [
        {
          "output_type": "execute_result",
          "data": {
            "text/plain": [
              "      105mm  105mmCAM1917  105mmHM2A1(France)  105mmHowM2A1(France)  \\\n",
              "0         0             0                   0                     0   \n",
              "1         0             0                   0                     0   \n",
              "2         0             0                   0                     0   \n",
              "3         0             0                   0                     0   \n",
              "4         0             0                   0                     0   \n",
              "...     ...           ...                 ...                   ...   \n",
              "9995      0             0                   0                     0   \n",
              "9996      0             0                   0                     0   \n",
              "9997      0             0                   0                     0   \n",
              "9998      0             0                   0                     0   \n",
              "9999      0             0                   0                     0   \n",
              "\n",
              "      105mmHowM2A1(Viêtnam)  105mmM2(France)  105mmM2A1  \\\n",
              "0                         0                0          0   \n",
              "1                         0                0          0   \n",
              "2                         0                0          0   \n",
              "3                         0                0          0   \n",
              "4                         0                0          0   \n",
              "...                     ...              ...        ...   \n",
              "9995                      0                0          0   \n",
              "9996                      0                0          0   \n",
              "9997                      0                0          0   \n",
              "9998                      0                0          0   \n",
              "9999                      0                0          0   \n",
              "\n",
              "      105mmM7Priest(France)  105mmobusier  106mmSR  ...  Zeppelin  Zodiac  \\\n",
              "0                         0             0        0  ...         0       0   \n",
              "1                         0             0        0  ...         0       0   \n",
              "2                         0             0        0  ...         0       0   \n",
              "3                         0             0        0  ...         0       0   \n",
              "4                         0             0        0  ...         0       0   \n",
              "...                     ...           ...      ...  ...       ...     ...   \n",
              "9995                      0             0        0  ...         0       0   \n",
              "9996                      0             0        0  ...         0       0   \n",
              "9997                      0             0        0  ...         0       0   \n",
              "9998                      0             0        0  ...         0       0   \n",
              "9999                      0             0        0  ...         0       0   \n",
              "\n",
              "      Zoneneutre  Zoo  Zoologie  Zouave  auditeur  nan  sMG-08  \\\n",
              "0              0    0         0       0         0    0       0   \n",
              "1              0    0         0       0         0    0       0   \n",
              "2              0    0         0       0         0    0       0   \n",
              "3              0    0         0       0         0    0       0   \n",
              "4              0    0         0       0         0    0       0   \n",
              "...          ...  ...       ...     ...       ...  ...     ...   \n",
              "9995           0    0         0       0         0    0       0   \n",
              "9996           0    0         0       0         0    0       0   \n",
              "9997           0    0         0       0         0    0       0   \n",
              "9998           0    0         0       0         0    0       0   \n",
              "9999           0    0         0       0         0    0       0   \n",
              "\n",
              "      tournéed'inspection  \n",
              "0                       0  \n",
              "1                       0  \n",
              "2                       0  \n",
              "3                       0  \n",
              "4                       0  \n",
              "...                   ...  \n",
              "9995                    0  \n",
              "9996                    0  \n",
              "9997                    0  \n",
              "9998                    0  \n",
              "9999                    0  \n",
              "\n",
              "[10000 rows x 4221 columns]"
            ],
            "text/html": [
              "\n",
              "  <div id=\"df-58274206-b6ca-484f-938c-ce55672fb7d6\">\n",
              "    <div class=\"colab-df-container\">\n",
              "      <div>\n",
              "<style scoped>\n",
              "    .dataframe tbody tr th:only-of-type {\n",
              "        vertical-align: middle;\n",
              "    }\n",
              "\n",
              "    .dataframe tbody tr th {\n",
              "        vertical-align: top;\n",
              "    }\n",
              "\n",
              "    .dataframe thead th {\n",
              "        text-align: right;\n",
              "    }\n",
              "</style>\n",
              "<table border=\"1\" class=\"dataframe\">\n",
              "  <thead>\n",
              "    <tr style=\"text-align: right;\">\n",
              "      <th></th>\n",
              "      <th>105mm</th>\n",
              "      <th>105mmCAM1917</th>\n",
              "      <th>105mmHM2A1(France)</th>\n",
              "      <th>105mmHowM2A1(France)</th>\n",
              "      <th>105mmHowM2A1(Viêtnam)</th>\n",
              "      <th>105mmM2(France)</th>\n",
              "      <th>105mmM2A1</th>\n",
              "      <th>105mmM7Priest(France)</th>\n",
              "      <th>105mmobusier</th>\n",
              "      <th>106mmSR</th>\n",
              "      <th>...</th>\n",
              "      <th>Zeppelin</th>\n",
              "      <th>Zodiac</th>\n",
              "      <th>Zoneneutre</th>\n",
              "      <th>Zoo</th>\n",
              "      <th>Zoologie</th>\n",
              "      <th>Zouave</th>\n",
              "      <th>auditeur</th>\n",
              "      <th>nan</th>\n",
              "      <th>sMG-08</th>\n",
              "      <th>tournéed'inspection</th>\n",
              "    </tr>\n",
              "  </thead>\n",
              "  <tbody>\n",
              "    <tr>\n",
              "      <th>0</th>\n",
              "      <td>0</td>\n",
              "      <td>0</td>\n",
              "      <td>0</td>\n",
              "      <td>0</td>\n",
              "      <td>0</td>\n",
              "      <td>0</td>\n",
              "      <td>0</td>\n",
              "      <td>0</td>\n",
              "      <td>0</td>\n",
              "      <td>0</td>\n",
              "      <td>...</td>\n",
              "      <td>0</td>\n",
              "      <td>0</td>\n",
              "      <td>0</td>\n",
              "      <td>0</td>\n",
              "      <td>0</td>\n",
              "      <td>0</td>\n",
              "      <td>0</td>\n",
              "      <td>0</td>\n",
              "      <td>0</td>\n",
              "      <td>0</td>\n",
              "    </tr>\n",
              "    <tr>\n",
              "      <th>1</th>\n",
              "      <td>0</td>\n",
              "      <td>0</td>\n",
              "      <td>0</td>\n",
              "      <td>0</td>\n",
              "      <td>0</td>\n",
              "      <td>0</td>\n",
              "      <td>0</td>\n",
              "      <td>0</td>\n",
              "      <td>0</td>\n",
              "      <td>0</td>\n",
              "      <td>...</td>\n",
              "      <td>0</td>\n",
              "      <td>0</td>\n",
              "      <td>0</td>\n",
              "      <td>0</td>\n",
              "      <td>0</td>\n",
              "      <td>0</td>\n",
              "      <td>0</td>\n",
              "      <td>0</td>\n",
              "      <td>0</td>\n",
              "      <td>0</td>\n",
              "    </tr>\n",
              "    <tr>\n",
              "      <th>2</th>\n",
              "      <td>0</td>\n",
              "      <td>0</td>\n",
              "      <td>0</td>\n",
              "      <td>0</td>\n",
              "      <td>0</td>\n",
              "      <td>0</td>\n",
              "      <td>0</td>\n",
              "      <td>0</td>\n",
              "      <td>0</td>\n",
              "      <td>0</td>\n",
              "      <td>...</td>\n",
              "      <td>0</td>\n",
              "      <td>0</td>\n",
              "      <td>0</td>\n",
              "      <td>0</td>\n",
              "      <td>0</td>\n",
              "      <td>0</td>\n",
              "      <td>0</td>\n",
              "      <td>0</td>\n",
              "      <td>0</td>\n",
              "      <td>0</td>\n",
              "    </tr>\n",
              "    <tr>\n",
              "      <th>3</th>\n",
              "      <td>0</td>\n",
              "      <td>0</td>\n",
              "      <td>0</td>\n",
              "      <td>0</td>\n",
              "      <td>0</td>\n",
              "      <td>0</td>\n",
              "      <td>0</td>\n",
              "      <td>0</td>\n",
              "      <td>0</td>\n",
              "      <td>0</td>\n",
              "      <td>...</td>\n",
              "      <td>0</td>\n",
              "      <td>0</td>\n",
              "      <td>0</td>\n",
              "      <td>0</td>\n",
              "      <td>0</td>\n",
              "      <td>0</td>\n",
              "      <td>0</td>\n",
              "      <td>0</td>\n",
              "      <td>0</td>\n",
              "      <td>0</td>\n",
              "    </tr>\n",
              "    <tr>\n",
              "      <th>4</th>\n",
              "      <td>0</td>\n",
              "      <td>0</td>\n",
              "      <td>0</td>\n",
              "      <td>0</td>\n",
              "      <td>0</td>\n",
              "      <td>0</td>\n",
              "      <td>0</td>\n",
              "      <td>0</td>\n",
              "      <td>0</td>\n",
              "      <td>0</td>\n",
              "      <td>...</td>\n",
              "      <td>0</td>\n",
              "      <td>0</td>\n",
              "      <td>0</td>\n",
              "      <td>0</td>\n",
              "      <td>0</td>\n",
              "      <td>0</td>\n",
              "      <td>0</td>\n",
              "      <td>0</td>\n",
              "      <td>0</td>\n",
              "      <td>0</td>\n",
              "    </tr>\n",
              "    <tr>\n",
              "      <th>...</th>\n",
              "      <td>...</td>\n",
              "      <td>...</td>\n",
              "      <td>...</td>\n",
              "      <td>...</td>\n",
              "      <td>...</td>\n",
              "      <td>...</td>\n",
              "      <td>...</td>\n",
              "      <td>...</td>\n",
              "      <td>...</td>\n",
              "      <td>...</td>\n",
              "      <td>...</td>\n",
              "      <td>...</td>\n",
              "      <td>...</td>\n",
              "      <td>...</td>\n",
              "      <td>...</td>\n",
              "      <td>...</td>\n",
              "      <td>...</td>\n",
              "      <td>...</td>\n",
              "      <td>...</td>\n",
              "      <td>...</td>\n",
              "      <td>...</td>\n",
              "    </tr>\n",
              "    <tr>\n",
              "      <th>9995</th>\n",
              "      <td>0</td>\n",
              "      <td>0</td>\n",
              "      <td>0</td>\n",
              "      <td>0</td>\n",
              "      <td>0</td>\n",
              "      <td>0</td>\n",
              "      <td>0</td>\n",
              "      <td>0</td>\n",
              "      <td>0</td>\n",
              "      <td>0</td>\n",
              "      <td>...</td>\n",
              "      <td>0</td>\n",
              "      <td>0</td>\n",
              "      <td>0</td>\n",
              "      <td>0</td>\n",
              "      <td>0</td>\n",
              "      <td>0</td>\n",
              "      <td>0</td>\n",
              "      <td>0</td>\n",
              "      <td>0</td>\n",
              "      <td>0</td>\n",
              "    </tr>\n",
              "    <tr>\n",
              "      <th>9996</th>\n",
              "      <td>0</td>\n",
              "      <td>0</td>\n",
              "      <td>0</td>\n",
              "      <td>0</td>\n",
              "      <td>0</td>\n",
              "      <td>0</td>\n",
              "      <td>0</td>\n",
              "      <td>0</td>\n",
              "      <td>0</td>\n",
              "      <td>0</td>\n",
              "      <td>...</td>\n",
              "      <td>0</td>\n",
              "      <td>0</td>\n",
              "      <td>0</td>\n",
              "      <td>0</td>\n",
              "      <td>0</td>\n",
              "      <td>0</td>\n",
              "      <td>0</td>\n",
              "      <td>0</td>\n",
              "      <td>0</td>\n",
              "      <td>0</td>\n",
              "    </tr>\n",
              "    <tr>\n",
              "      <th>9997</th>\n",
              "      <td>0</td>\n",
              "      <td>0</td>\n",
              "      <td>0</td>\n",
              "      <td>0</td>\n",
              "      <td>0</td>\n",
              "      <td>0</td>\n",
              "      <td>0</td>\n",
              "      <td>0</td>\n",
              "      <td>0</td>\n",
              "      <td>0</td>\n",
              "      <td>...</td>\n",
              "      <td>0</td>\n",
              "      <td>0</td>\n",
              "      <td>0</td>\n",
              "      <td>0</td>\n",
              "      <td>0</td>\n",
              "      <td>0</td>\n",
              "      <td>0</td>\n",
              "      <td>0</td>\n",
              "      <td>0</td>\n",
              "      <td>0</td>\n",
              "    </tr>\n",
              "    <tr>\n",
              "      <th>9998</th>\n",
              "      <td>0</td>\n",
              "      <td>0</td>\n",
              "      <td>0</td>\n",
              "      <td>0</td>\n",
              "      <td>0</td>\n",
              "      <td>0</td>\n",
              "      <td>0</td>\n",
              "      <td>0</td>\n",
              "      <td>0</td>\n",
              "      <td>0</td>\n",
              "      <td>...</td>\n",
              "      <td>0</td>\n",
              "      <td>0</td>\n",
              "      <td>0</td>\n",
              "      <td>0</td>\n",
              "      <td>0</td>\n",
              "      <td>0</td>\n",
              "      <td>0</td>\n",
              "      <td>0</td>\n",
              "      <td>0</td>\n",
              "      <td>0</td>\n",
              "    </tr>\n",
              "    <tr>\n",
              "      <th>9999</th>\n",
              "      <td>0</td>\n",
              "      <td>0</td>\n",
              "      <td>0</td>\n",
              "      <td>0</td>\n",
              "      <td>0</td>\n",
              "      <td>0</td>\n",
              "      <td>0</td>\n",
              "      <td>0</td>\n",
              "      <td>0</td>\n",
              "      <td>0</td>\n",
              "      <td>...</td>\n",
              "      <td>0</td>\n",
              "      <td>0</td>\n",
              "      <td>0</td>\n",
              "      <td>0</td>\n",
              "      <td>0</td>\n",
              "      <td>0</td>\n",
              "      <td>0</td>\n",
              "      <td>0</td>\n",
              "      <td>0</td>\n",
              "      <td>0</td>\n",
              "    </tr>\n",
              "  </tbody>\n",
              "</table>\n",
              "<p>10000 rows × 4221 columns</p>\n",
              "</div>\n",
              "      <button class=\"colab-df-convert\" onclick=\"convertToInteractive('df-58274206-b6ca-484f-938c-ce55672fb7d6')\"\n",
              "              title=\"Convert this dataframe to an interactive table.\"\n",
              "              style=\"display:none;\">\n",
              "        \n",
              "  <svg xmlns=\"http://www.w3.org/2000/svg\" height=\"24px\"viewBox=\"0 0 24 24\"\n",
              "       width=\"24px\">\n",
              "    <path d=\"M0 0h24v24H0V0z\" fill=\"none\"/>\n",
              "    <path d=\"M18.56 5.44l.94 2.06.94-2.06 2.06-.94-2.06-.94-.94-2.06-.94 2.06-2.06.94zm-11 1L8.5 8.5l.94-2.06 2.06-.94-2.06-.94L8.5 2.5l-.94 2.06-2.06.94zm10 10l.94 2.06.94-2.06 2.06-.94-2.06-.94-.94-2.06-.94 2.06-2.06.94z\"/><path d=\"M17.41 7.96l-1.37-1.37c-.4-.4-.92-.59-1.43-.59-.52 0-1.04.2-1.43.59L10.3 9.45l-7.72 7.72c-.78.78-.78 2.05 0 2.83L4 21.41c.39.39.9.59 1.41.59.51 0 1.02-.2 1.41-.59l7.78-7.78 2.81-2.81c.8-.78.8-2.07 0-2.86zM5.41 20L4 18.59l7.72-7.72 1.47 1.35L5.41 20z\"/>\n",
              "  </svg>\n",
              "      </button>\n",
              "      \n",
              "  <style>\n",
              "    .colab-df-container {\n",
              "      display:flex;\n",
              "      flex-wrap:wrap;\n",
              "      gap: 12px;\n",
              "    }\n",
              "\n",
              "    .colab-df-convert {\n",
              "      background-color: #E8F0FE;\n",
              "      border: none;\n",
              "      border-radius: 50%;\n",
              "      cursor: pointer;\n",
              "      display: none;\n",
              "      fill: #1967D2;\n",
              "      height: 32px;\n",
              "      padding: 0 0 0 0;\n",
              "      width: 32px;\n",
              "    }\n",
              "\n",
              "    .colab-df-convert:hover {\n",
              "      background-color: #E2EBFA;\n",
              "      box-shadow: 0px 1px 2px rgba(60, 64, 67, 0.3), 0px 1px 3px 1px rgba(60, 64, 67, 0.15);\n",
              "      fill: #174EA6;\n",
              "    }\n",
              "\n",
              "    [theme=dark] .colab-df-convert {\n",
              "      background-color: #3B4455;\n",
              "      fill: #D2E3FC;\n",
              "    }\n",
              "\n",
              "    [theme=dark] .colab-df-convert:hover {\n",
              "      background-color: #434B5C;\n",
              "      box-shadow: 0px 1px 3px 1px rgba(0, 0, 0, 0.15);\n",
              "      filter: drop-shadow(0px 1px 2px rgba(0, 0, 0, 0.3));\n",
              "      fill: #FFFFFF;\n",
              "    }\n",
              "  </style>\n",
              "\n",
              "      <script>\n",
              "        const buttonEl =\n",
              "          document.querySelector('#df-58274206-b6ca-484f-938c-ce55672fb7d6 button.colab-df-convert');\n",
              "        buttonEl.style.display =\n",
              "          google.colab.kernel.accessAllowed ? 'block' : 'none';\n",
              "\n",
              "        async function convertToInteractive(key) {\n",
              "          const element = document.querySelector('#df-58274206-b6ca-484f-938c-ce55672fb7d6');\n",
              "          const dataTable =\n",
              "            await google.colab.kernel.invokeFunction('convertToInteractive',\n",
              "                                                     [key], {});\n",
              "          if (!dataTable) return;\n",
              "\n",
              "          const docLinkHtml = 'Like what you see? Visit the ' +\n",
              "            '<a target=\"_blank\" href=https://colab.research.google.com/notebooks/data_table.ipynb>data table notebook</a>'\n",
              "            + ' to learn more about interactive tables.';\n",
              "          element.innerHTML = '';\n",
              "          dataTable['output_type'] = 'display_data';\n",
              "          await google.colab.output.renderOutput(dataTable, element);\n",
              "          const docLink = document.createElement('div');\n",
              "          docLink.innerHTML = docLinkHtml;\n",
              "          element.appendChild(docLink);\n",
              "        }\n",
              "      </script>\n",
              "    </div>\n",
              "  </div>\n",
              "  "
            ]
          },
          "metadata": {},
          "execution_count": 8
        }
      ],
      "source": [
        "from sklearn.preprocessing import MultiLabelBinarizer\n",
        "df_light = df_mot_cle[:10000]\n",
        "mlb = MultiLabelBinarizer()\n",
        "\n",
        "res = pd.DataFrame(mlb.fit_transform(df_light),columns=mlb.classes_,index=df_light.index)\n",
        "res"
      ]
    },
    {
      "cell_type": "code",
      "execution_count": 9,
      "metadata": {
        "colab": {
          "base_uri": "https://localhost:8080/"
        },
        "id": "2Lb9Ca70P6eu",
        "outputId": "7ba05fbb-6f53-4c11-ea36-b0719b43332b"
      },
      "outputs": [
        {
          "output_type": "execute_result",
          "data": {
            "text/plain": [
              "10000"
            ]
          },
          "metadata": {},
          "execution_count": 9
        }
      ],
      "source": [
        "len(res)"
      ]
    },
    {
      "cell_type": "code",
      "execution_count": 10,
      "metadata": {
        "colab": {
          "base_uri": "https://localhost:8080/"
        },
        "id": "3VAdMIC9P6eu",
        "outputId": "43a87de6-d2de-45aa-ac12-5125f24fe5b1"
      },
      "outputs": [
        {
          "output_type": "execute_result",
          "data": {
            "text/plain": [
              "Portrait                  979\n",
              "Soldat                    669\n",
              "Exercice                  647\n",
              "Cérémoniemilitaire        632\n",
              "Arbre                     627\n",
              "                         ... \n",
              "Blindédereconnaissance      1\n",
              "PlateformePéchot            1\n",
              "BlindéUkraine               1\n",
              "BlindéItalie                1\n",
              "tournéed'inspection         1\n",
              "Length: 4221, dtype: int64"
            ]
          },
          "metadata": {},
          "execution_count": 10
        }
      ],
      "source": [
        "sum_df = res.sum().sort_values(ascending=False)\n",
        "sum_df"
      ]
    },
    {
      "cell_type": "markdown",
      "source": [
        "\n",
        "Display in percentage"
      ],
      "metadata": {
        "id": "QJzalpZoRWV7"
      }
    },
    {
      "cell_type": "code",
      "execution_count": 11,
      "metadata": {
        "colab": {
          "base_uri": "https://localhost:8080/"
        },
        "id": "94ZC1HbnP6eu",
        "outputId": "be8712ee-f6d5-4f51-a3ec-48fd820a022e"
      },
      "outputs": [
        {
          "output_type": "execute_result",
          "data": {
            "text/plain": [
              "Portrait                  9.79\n",
              "Soldat                    6.69\n",
              "Exercice                  6.47\n",
              "Cérémoniemilitaire        6.32\n",
              "Arbre                     6.27\n",
              "                          ... \n",
              "Blindédereconnaissance    0.01\n",
              "PlateformePéchot          0.01\n",
              "BlindéUkraine             0.01\n",
              "BlindéItalie              0.01\n",
              "tournéed'inspection       0.01\n",
              "Length: 4221, dtype: float64"
            ]
          },
          "metadata": {},
          "execution_count": 11
        }
      ],
      "source": [
        "sum_df.apply(lambda x: x/len(res)*100)"
      ]
    },
    {
      "cell_type": "code",
      "execution_count": 13,
      "metadata": {
        "colab": {
          "base_uri": "https://localhost:8080/"
        },
        "id": "efsIaqIqP6eu",
        "outputId": "77866618-9f3b-403f-9ff0-7912349661e7"
      },
      "outputs": [
        {
          "output_type": "execute_result",
          "data": {
            "text/plain": [
              "Portrait               979\n",
              "Soldat                 669\n",
              "Exercice               647\n",
              "Cérémoniemilitaire     632\n",
              "Arbre                  627\n",
              "                      ... \n",
              "Insigne                160\n",
              "Alat                   158\n",
              "Postedecommandement    158\n",
              "Epave                  156\n",
              "Casquebleu             156\n",
              "Length: 100, dtype: int64"
            ]
          },
          "metadata": {},
          "execution_count": 13
        }
      ],
      "source": [
        "biggest_df = sum_df[:100]\n",
        "biggest_df"
      ]
    },
    {
      "cell_type": "markdown",
      "source": [
        "# Create COCO FORMAT ANNOTATION\n",
        "## CATEGORIES"
      ],
      "metadata": {
        "id": "EtsFzx-9V3o_"
      }
    },
    {
      "cell_type": "code",
      "source": [
        "import json"
      ],
      "metadata": {
        "id": "P_u8SMgpRruV"
      },
      "execution_count": 14,
      "outputs": []
    },
    {
      "cell_type": "code",
      "source": [
        "L_categories = []\n",
        "categories = {}\n",
        "for i, ind in enumerate(biggest_df.index):\n",
        "  L_categories.append({\"id\" : i,\n",
        "            \"name\": ind,\n",
        "            \"supercategory\": \"none\"})\n",
        "  categories[ind] = i\n",
        "with open(\"categories.json\", \"w\", encoding=\"utf-8\") as outfile:\n",
        "    json.dump({\"categories\": L_categories}, outfile, indent=4, ensure_ascii=False)"
      ],
      "metadata": {
        "id": "H_a-g3jPRrwq"
      },
      "execution_count": 70,
      "outputs": []
    },
    {
      "cell_type": "markdown",
      "source": [
        "##IMAGES"
      ],
      "metadata": {
        "id": "7Zjq5vUtWzUW"
      }
    },
    {
      "cell_type": "code",
      "source": [
        "encoded = res[biggest_df.index]\n",
        "encoded = encoded.replace(0, np.nan)\n",
        "encoded = encoded.dropna(how='all', axis=0)\n",
        "encoded = encoded.replace(np.nan, 0)\n",
        "indx = encoded.index"
      ],
      "metadata": {
        "id": "aMmoWlyQRrzS"
      },
      "execution_count": 34,
      "outputs": []
    },
    {
      "cell_type": "code",
      "source": [
        "df_trimmed = df.iloc[indx]"
      ],
      "metadata": {
        "id": "SRZdGc_RRr2D"
      },
      "execution_count": 41,
      "outputs": []
    },
    {
      "cell_type": "code",
      "source": [
        "L_images = []\n",
        "for i, name in enumerate(df_trimmed[\"REFERENCE\"]):\n",
        "  L_images.append({\"id\" : i,\n",
        "            \"file_name\": name\n",
        "            })\n",
        "with open(\"images.json\", \"w\", encoding=\"utf-8\") as outfile:\n",
        "    json.dump({\"images\": L_images}, outfile, indent=4, ensure_ascii=False)"
      ],
      "metadata": {
        "id": "l2P549DjRr4u"
      },
      "execution_count": 71,
      "outputs": []
    },
    {
      "cell_type": "markdown",
      "source": [
        "## ANNOTATIONS"
      ],
      "metadata": {
        "id": "nrbciRKDbyjQ"
      }
    },
    {
      "cell_type": "code",
      "source": [
        "list(df_trimmed[\"MOTCLE\"])[0].replace(\" \",\"\").split(\";\")"
      ],
      "metadata": {
        "colab": {
          "base_uri": "https://localhost:8080/"
        },
        "id": "fm9OLZfSRr7l",
        "outputId": "c2936e82-0d69-4679-a761-5034111b7c8a"
      },
      "execution_count": 51,
      "outputs": [
        {
          "output_type": "execute_result",
          "data": {
            "text/plain": [
              "['Infrastructuremilitaire',\n",
              " 'Bastion',\n",
              " 'Architecturemilitaire',\n",
              " 'Végétation',\n",
              " 'Arbre',\n",
              " 'Fort']"
            ]
          },
          "metadata": {},
          "execution_count": 51
        }
      ]
    },
    {
      "cell_type": "code",
      "source": [
        "chosen_keywords = list(biggest_df.index)"
      ],
      "metadata": {
        "id": "4U2F0Mz_Rr-A"
      },
      "execution_count": 53,
      "outputs": []
    },
    {
      "cell_type": "code",
      "source": [
        "for i in list(df_trimmed[\"MOTCLE\"])[0].replace(\" \",\"\").split(\";\"):\n",
        "  if i in chosen_keywords:\n",
        "    print(i)"
      ],
      "metadata": {
        "colab": {
          "base_uri": "https://localhost:8080/"
        },
        "id": "F1WF9H_yRsA0",
        "outputId": "1234c391-0150-473a-9cd4-4c62e08ef0e1"
      },
      "execution_count": 52,
      "outputs": [
        {
          "output_type": "stream",
          "name": "stdout",
          "text": [
            "Arbre\n"
          ]
        }
      ]
    },
    {
      "cell_type": "code",
      "source": [
        "L_annotations = []\n",
        "id = 0\n",
        "for image_id, keywords in enumerate(df_trimmed[\"MOTCLE\"]):  \n",
        "  for words in keywords.replace(\" \",\"\").split(\";\"):\n",
        "    if words in categories:\n",
        "      L_annotations.append({\"id\" : id,\n",
        "                \"image_id\": image_id,\n",
        "                \"category_id\": categories[words],\n",
        "                \"bbox\": [],\n",
        "                \"area\": 0,\n",
        "                \"segmentation\": [],\n",
        "                \"iscrowd\": 0\n",
        "                })\n",
        "      id+=1\n",
        "with open(\"annotations.json\", \"w\", encoding=\"utf-8\") as outfile:\n",
        "    json.dump({\"annotations\": L_annotations}, outfile, indent=4, ensure_ascii=False)"
      ],
      "metadata": {
        "id": "-4URnAwNRsDr"
      },
      "execution_count": 72,
      "outputs": []
    },
    {
      "cell_type": "code",
      "source": [],
      "metadata": {
        "id": "jYsDb_v9RsOL"
      },
      "execution_count": null,
      "outputs": []
    },
    {
      "cell_type": "code",
      "source": [
        "with open(\"annotations_coco.json\", \"w\", encoding=\"utf-8\") as outfile:\n",
        "    json.dump({\"categories\": L_categories,\n",
        "               \"images\": L_images,\n",
        "               \"annotations\": L_annotations}, outfile, indent=4, ensure_ascii=False)"
      ],
      "metadata": {
        "id": "OAt3QSWnRsRC"
      },
      "execution_count": 73,
      "outputs": []
    }
  ],
  "metadata": {
    "kernelspec": {
      "display_name": "Python 3 (ipykernel)",
      "language": "python",
      "name": "python3"
    },
    "language_info": {
      "codemirror_mode": {
        "name": "ipython",
        "version": 3
      },
      "file_extension": ".py",
      "mimetype": "text/x-python",
      "name": "python",
      "nbconvert_exporter": "python",
      "pygments_lexer": "ipython3",
      "version": "3.8.10"
    },
    "colab": {
      "provenance": [],
      "collapsed_sections": []
    }
  },
  "nbformat": 4,
  "nbformat_minor": 0
}