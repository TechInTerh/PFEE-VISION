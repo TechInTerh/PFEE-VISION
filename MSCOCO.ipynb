{
 "cells": [
  {
   "cell_type": "code",
   "execution_count": 1,
   "id": "2ee287ef",
   "metadata": {},
   "outputs": [],
   "source": [
    "import json"
   ]
  },
  {
   "cell_type": "code",
   "execution_count": 2,
   "id": "7e2c2834",
   "metadata": {},
   "outputs": [],
   "source": [
    "with open('panoptic_val2017.json', 'r') as f:\n",
    "  data = json.load(f)"
   ]
  },
  {
   "cell_type": "markdown",
   "id": "db8e83b3",
   "metadata": {},
   "source": [
    "Pour chaque entrée du Json, on récupère l'ID de l'image et ID des catégories."
   ]
  },
  {
   "cell_type": "code",
   "execution_count": 4,
   "id": "ba429331",
   "metadata": {},
   "outputs": [],
   "source": [
    "L = [] \n",
    "for i in data[\"annotations\"]:\n",
    "    cat = []\n",
    "    for e in i[\"segments_info\"]:        \n",
    "        cat.append(e[\"category_id\"])\n",
    "    L.append([i[\"image_id\"], cat])"
   ]
  },
  {
   "cell_type": "markdown",
   "id": "4946bcc6",
   "metadata": {},
   "source": [
    "On récupère selon l'Id de la catégorie, le nom associé."
   ]
  },
  {
   "cell_type": "code",
   "execution_count": 6,
   "id": "ae375be3",
   "metadata": {},
   "outputs": [
    {
     "data": {
      "text/plain": [
       "{1: 'person',\n",
       " 2: 'bicycle',\n",
       " 3: 'car',\n",
       " 4: 'motorcycle',\n",
       " 5: 'airplane',\n",
       " 6: 'bus',\n",
       " 7: 'train',\n",
       " 8: 'truck',\n",
       " 9: 'boat',\n",
       " 10: 'traffic light',\n",
       " 11: 'fire hydrant',\n",
       " 13: 'stop sign',\n",
       " 14: 'parking meter',\n",
       " 15: 'bench',\n",
       " 16: 'bird',\n",
       " 17: 'cat',\n",
       " 18: 'dog',\n",
       " 19: 'horse',\n",
       " 20: 'sheep',\n",
       " 21: 'cow',\n",
       " 22: 'elephant',\n",
       " 23: 'bear',\n",
       " 24: 'zebra',\n",
       " 25: 'giraffe',\n",
       " 27: 'backpack',\n",
       " 28: 'umbrella',\n",
       " 31: 'handbag',\n",
       " 32: 'tie',\n",
       " 33: 'suitcase',\n",
       " 34: 'frisbee',\n",
       " 35: 'skis',\n",
       " 36: 'snowboard',\n",
       " 37: 'sports ball',\n",
       " 38: 'kite',\n",
       " 39: 'baseball bat',\n",
       " 40: 'baseball glove',\n",
       " 41: 'skateboard',\n",
       " 42: 'surfboard',\n",
       " 43: 'tennis racket',\n",
       " 44: 'bottle',\n",
       " 46: 'wine glass',\n",
       " 47: 'cup',\n",
       " 48: 'fork',\n",
       " 49: 'knife',\n",
       " 50: 'spoon',\n",
       " 51: 'bowl',\n",
       " 52: 'banana',\n",
       " 53: 'apple',\n",
       " 54: 'sandwich',\n",
       " 55: 'orange',\n",
       " 56: 'broccoli',\n",
       " 57: 'carrot',\n",
       " 58: 'hot dog',\n",
       " 59: 'pizza',\n",
       " 60: 'donut',\n",
       " 61: 'cake',\n",
       " 62: 'chair',\n",
       " 63: 'couch',\n",
       " 64: 'potted plant',\n",
       " 65: 'bed',\n",
       " 67: 'dining table',\n",
       " 70: 'toilet',\n",
       " 72: 'tv',\n",
       " 73: 'laptop',\n",
       " 74: 'mouse',\n",
       " 75: 'remote',\n",
       " 76: 'keyboard',\n",
       " 77: 'cell phone',\n",
       " 78: 'microwave',\n",
       " 79: 'oven',\n",
       " 80: 'toaster',\n",
       " 81: 'sink',\n",
       " 82: 'refrigerator',\n",
       " 84: 'book',\n",
       " 85: 'clock',\n",
       " 86: 'vase',\n",
       " 87: 'scissors',\n",
       " 88: 'teddy bear',\n",
       " 89: 'hair drier',\n",
       " 90: 'toothbrush',\n",
       " 92: 'banner',\n",
       " 93: 'blanket',\n",
       " 95: 'bridge',\n",
       " 100: 'cardboard',\n",
       " 107: 'counter',\n",
       " 109: 'curtain',\n",
       " 112: 'door-stuff',\n",
       " 118: 'floor-wood',\n",
       " 119: 'flower',\n",
       " 122: 'fruit',\n",
       " 125: 'gravel',\n",
       " 128: 'house',\n",
       " 130: 'light',\n",
       " 133: 'mirror-stuff',\n",
       " 138: 'net',\n",
       " 141: 'pillow',\n",
       " 144: 'platform',\n",
       " 145: 'playingfield',\n",
       " 147: 'railroad',\n",
       " 148: 'river',\n",
       " 149: 'road',\n",
       " 151: 'roof',\n",
       " 154: 'sand',\n",
       " 155: 'sea',\n",
       " 156: 'shelf',\n",
       " 159: 'snow',\n",
       " 161: 'stairs',\n",
       " 166: 'tent',\n",
       " 168: 'towel',\n",
       " 171: 'wall-brick',\n",
       " 175: 'wall-stone',\n",
       " 176: 'wall-tile',\n",
       " 177: 'wall-wood',\n",
       " 178: 'water-other',\n",
       " 180: 'window-blind',\n",
       " 181: 'window-other',\n",
       " 184: 'tree-merged',\n",
       " 185: 'fence-merged',\n",
       " 186: 'ceiling-merged',\n",
       " 187: 'sky-other-merged',\n",
       " 188: 'cabinet-merged',\n",
       " 189: 'table-merged',\n",
       " 190: 'floor-other-merged',\n",
       " 191: 'pavement-merged',\n",
       " 192: 'mountain-merged',\n",
       " 193: 'grass-merged',\n",
       " 194: 'dirt-merged',\n",
       " 195: 'paper-merged',\n",
       " 196: 'food-other-merged',\n",
       " 197: 'building-other-merged',\n",
       " 198: 'rock-merged',\n",
       " 199: 'wall-other-merged',\n",
       " 200: 'rug-merged'}"
      ]
     },
     "execution_count": 6,
     "metadata": {},
     "output_type": "execute_result"
    }
   ],
   "source": [
    "dict_cat = {}\n",
    "for i in data[\"categories\"]:\n",
    "    dict_cat[int(i[\"id\"])] = i[\"name\"]\n",
    "dict_cat"
   ]
  },
  {
   "cell_type": "markdown",
   "id": "5b0188af",
   "metadata": {},
   "source": [
    "On récupère une liste avec pour chaque entrée, ID image et une liste de catégories."
   ]
  },
  {
   "cell_type": "code",
   "execution_count": 7,
   "id": "48c6b6a0",
   "metadata": {},
   "outputs": [],
   "source": [
    "L2 = [[one, [dict_cat[i] for i in two]] for one, two in L]"
   ]
  }
 ],
 "metadata": {
  "kernelspec": {
   "display_name": "Python 3 (ipykernel)",
   "language": "python",
   "name": "python3"
  },
  "language_info": {
   "codemirror_mode": {
    "name": "ipython",
    "version": 3
   },
   "file_extension": ".py",
   "mimetype": "text/x-python",
   "name": "python",
   "nbconvert_exporter": "python",
   "pygments_lexer": "ipython3",
   "version": "3.8.10"
  }
 },
 "nbformat": 4,
 "nbformat_minor": 5
}
