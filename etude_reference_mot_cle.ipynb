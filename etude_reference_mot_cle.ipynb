{
 "cells": [
  {
   "cell_type": "code",
   "execution_count": 7,
   "metadata": {
    "collapsed": true,
    "pycharm": {
     "name": "#%%\n"
    }
   },
   "outputs": [],
   "source": [
    "import pandas as pd\n",
    "import numpy as np"
   ]
  },
  {
   "cell_type": "code",
   "execution_count": 8,
   "outputs": [
    {
     "data": {
      "text/plain": "                       REFERENCE  \\\n0                  SPA 82 A 2979   \n1             D0388-020-001-2179   \n2             D0370-002-001-0009   \n3             D0370-002-001-0010   \n4             D0370-002-001-0011   \n...                          ...   \n132114  2021_ECPAD_053_X_003_435   \n132115  2021_ECPAD_053_X_003_438   \n132116  2021_ECPAD_053_X_003_439   \n132117  2021_ECPAD_053_X_003_444   \n132118  2021_ECPAD_053_X_003_445   \n\n                                                    TITRE  \\\n0       Chanak Kalessi. Vue de la ville. [Légende d'or...   \n1       (F[or]t D[auphin]). Bastion du fort Flacourt. ...   \n2                    Mansouria. 1958. [légende d'origine]   \n3                    Mansouria. 1958. [légende d'origine]   \n4                    Mansouria. 1958. [légende d'origine]   \n...                                                   ...   \n132114              Le musée de l'Ordre de la Libération.   \n132115              Le musée de l'Ordre de la Libération.   \n132116              Le musée de l'Ordre de la Libération.   \n132117              Le musée de l'Ordre de la Libération.   \n132118              Le musée de l'Ordre de la Libération.   \n\n                                                   MOTCLE Unnamed: 3  \\\n0       Militaire ; Ville ; Paysage ; Transport mariti...        NaN   \n1       Infrastructure militaire ; Bastion ; Architect...        NaN   \n2       Population civile ; Soigner ; Béret ; Montre ;...        NaN   \n3       Population civile ; Soigner ; Béret ; Montre ;...        NaN   \n4       Population civile ; Soigner ; Troupes aéroport...        NaN   \n...                                                   ...        ...   \n132114  Musée ; Libération ; Drapeau ; Armée Allemagne...        NaN   \n132115   Musée ; Libération ; Drapeau ; Croix de Lorraine        NaN   \n132116   Musée ; Libération ; Drapeau ; Croix de Lorraine        NaN   \n132117  Musée ; Libération ; Drapeau ; Armée Allemagne...        NaN   \n132118  Musée ; Libération ; Drapeau ; Armée Allemagne...        NaN   \n\n       Unnamed: 4  \n0             NaN  \n1             NaN  \n2             NaN  \n3             NaN  \n4             NaN  \n...           ...  \n132114        NaN  \n132115        NaN  \n132116        NaN  \n132117        NaN  \n132118        NaN  \n\n[132119 rows x 5 columns]",
      "text/html": "<div>\n<style scoped>\n    .dataframe tbody tr th:only-of-type {\n        vertical-align: middle;\n    }\n\n    .dataframe tbody tr th {\n        vertical-align: top;\n    }\n\n    .dataframe thead th {\n        text-align: right;\n    }\n</style>\n<table border=\"1\" class=\"dataframe\">\n  <thead>\n    <tr style=\"text-align: right;\">\n      <th></th>\n      <th>REFERENCE</th>\n      <th>TITRE</th>\n      <th>MOTCLE</th>\n      <th>Unnamed: 3</th>\n      <th>Unnamed: 4</th>\n    </tr>\n  </thead>\n  <tbody>\n    <tr>\n      <th>0</th>\n      <td>SPA 82 A 2979</td>\n      <td>Chanak Kalessi. Vue de la ville. [Légende d'or...</td>\n      <td>Militaire ; Ville ; Paysage ; Transport mariti...</td>\n      <td>NaN</td>\n      <td>NaN</td>\n    </tr>\n    <tr>\n      <th>1</th>\n      <td>D0388-020-001-2179</td>\n      <td>(F[or]t D[auphin]). Bastion du fort Flacourt. ...</td>\n      <td>Infrastructure militaire ; Bastion ; Architect...</td>\n      <td>NaN</td>\n      <td>NaN</td>\n    </tr>\n    <tr>\n      <th>2</th>\n      <td>D0370-002-001-0009</td>\n      <td>Mansouria. 1958. [légende d'origine]</td>\n      <td>Population civile ; Soigner ; Béret ; Montre ;...</td>\n      <td>NaN</td>\n      <td>NaN</td>\n    </tr>\n    <tr>\n      <th>3</th>\n      <td>D0370-002-001-0010</td>\n      <td>Mansouria. 1958. [légende d'origine]</td>\n      <td>Population civile ; Soigner ; Béret ; Montre ;...</td>\n      <td>NaN</td>\n      <td>NaN</td>\n    </tr>\n    <tr>\n      <th>4</th>\n      <td>D0370-002-001-0011</td>\n      <td>Mansouria. 1958. [légende d'origine]</td>\n      <td>Population civile ; Soigner ; Troupes aéroport...</td>\n      <td>NaN</td>\n      <td>NaN</td>\n    </tr>\n    <tr>\n      <th>...</th>\n      <td>...</td>\n      <td>...</td>\n      <td>...</td>\n      <td>...</td>\n      <td>...</td>\n    </tr>\n    <tr>\n      <th>132114</th>\n      <td>2021_ECPAD_053_X_003_435</td>\n      <td>Le musée de l'Ordre de la Libération.</td>\n      <td>Musée ; Libération ; Drapeau ; Armée Allemagne...</td>\n      <td>NaN</td>\n      <td>NaN</td>\n    </tr>\n    <tr>\n      <th>132115</th>\n      <td>2021_ECPAD_053_X_003_438</td>\n      <td>Le musée de l'Ordre de la Libération.</td>\n      <td>Musée ; Libération ; Drapeau ; Croix de Lorraine</td>\n      <td>NaN</td>\n      <td>NaN</td>\n    </tr>\n    <tr>\n      <th>132116</th>\n      <td>2021_ECPAD_053_X_003_439</td>\n      <td>Le musée de l'Ordre de la Libération.</td>\n      <td>Musée ; Libération ; Drapeau ; Croix de Lorraine</td>\n      <td>NaN</td>\n      <td>NaN</td>\n    </tr>\n    <tr>\n      <th>132117</th>\n      <td>2021_ECPAD_053_X_003_444</td>\n      <td>Le musée de l'Ordre de la Libération.</td>\n      <td>Musée ; Libération ; Drapeau ; Armée Allemagne...</td>\n      <td>NaN</td>\n      <td>NaN</td>\n    </tr>\n    <tr>\n      <th>132118</th>\n      <td>2021_ECPAD_053_X_003_445</td>\n      <td>Le musée de l'Ordre de la Libération.</td>\n      <td>Musée ; Libération ; Drapeau ; Armée Allemagne...</td>\n      <td>NaN</td>\n      <td>NaN</td>\n    </tr>\n  </tbody>\n</table>\n<p>132119 rows × 5 columns</p>\n</div>"
     },
     "execution_count": 8,
     "metadata": {},
     "output_type": "execute_result"
    }
   ],
   "source": [
    "df = pd.read_excel(\"Export_reference__mots_clefs.xlsx\")\n",
    "df"
   ],
   "metadata": {
    "collapsed": false,
    "pycharm": {
     "name": "#%%\n"
    }
   }
  },
  {
   "cell_type": "code",
   "execution_count": 9,
   "outputs": [
    {
     "data": {
      "text/plain": "REFERENCE     object\nTITRE         object\nMOTCLE        object\nUnnamed: 3    object\nUnnamed: 4    object\ndtype: object"
     },
     "execution_count": 9,
     "metadata": {},
     "output_type": "execute_result"
    }
   ],
   "source": [
    "df.dtypes"
   ],
   "metadata": {
    "collapsed": false,
    "pycharm": {
     "name": "#%%\n"
    }
   }
  },
  {
   "cell_type": "code",
   "execution_count": 10,
   "outputs": [],
   "source": [
    "df = df.drop([\"Unnamed: 3\",\"Unnamed: 4\"], axis=1).astype(\"str\")\n"
   ],
   "metadata": {
    "collapsed": false,
    "pycharm": {
     "name": "#%%\n"
    }
   }
  },
  {
   "cell_type": "code",
   "execution_count": 11,
   "outputs": [
    {
     "data": {
      "text/plain": "0         [Militaire ,  Ville ,  Paysage ,  Transport ma...\n1         [Infrastructure militaire ,  Bastion ,  Archit...\n2         [Population civile ,  Soigner ,  Béret ,  Mont...\n3         [Population civile ,  Soigner ,  Béret ,  Mont...\n4         [Population civile ,  Soigner ,  Troupes aérop...\n                                ...                        \n132114    [Musée ,  Libération ,  Drapeau ,  Armée Allem...\n132115    [Musée ,  Libération ,  Drapeau ,  Croix de Lo...\n132116    [Musée ,  Libération ,  Drapeau ,  Croix de Lo...\n132117    [Musée ,  Libération ,  Drapeau ,  Armée Allem...\n132118    [Musée ,  Libération ,  Drapeau ,  Armée Allem...\nName: MOTCLE, Length: 132119, dtype: object"
     },
     "execution_count": 11,
     "metadata": {},
     "output_type": "execute_result"
    }
   ],
   "source": [
    "df_mot_cle = df[\"MOTCLE\"]\n",
    "def split_word(el : str):\n",
    "    return el.split(\";\")\n",
    "df_mot_cle = df_mot_cle.apply(split_word)\n",
    "df_mot_cle"
   ],
   "metadata": {
    "collapsed": false,
    "pycharm": {
     "name": "#%%\n"
    }
   }
  },
  {
   "cell_type": "markdown",
   "source": [
    "Perform a One hot encoding with sklearn"
   ],
   "metadata": {
    "collapsed": false,
    "pycharm": {
     "name": "#%% md\n"
    }
   }
  },
  {
   "cell_type": "code",
   "execution_count": 12,
   "outputs": [
    {
     "data": {
      "text/plain": "        \"Abeille Bourbon\"   \"Abeille Flandre\"    \"Amiral Mouchez\"   \\\n0                       0                    0                   0   \n1                       0                    0                   0   \n2                       0                    0                   0   \n3                       0                    0                   0   \n4                       0                    0                   0   \n...                   ...                  ...                 ...   \n29995                   0                    0                   0   \n29996                   0                    0                   0   \n29997                   0                    0                   0   \n29998                   0                    0                   0   \n29999                   0                    0                   0   \n\n        \"Andromède\"    \"Argens\"    \"Ariane\"   \"Atlantic\" (cargo)   \\\n0                  0           0          0                     0   \n1                  0           0          0                     0   \n2                  0           0          0                     0   \n3                  0           0          0                     0   \n4                  0           0          0                     0   \n...              ...         ...        ...                   ...   \n29995              0           0          0                     0   \n29996              0           0          0                     0   \n29997              0           0          0                     0   \n29998              0           0          0                     0   \n29999              0           0          0                     0   \n\n        \"Bouclier\"    \"Bourrasque\"    \"Branlebas\"   ...  Vêtement   Wagon   \\\n0                 0               0              0  ...          0       0   \n1                 0               0              0  ...          0       0   \n2                 0               0              0  ...          0       0   \n3                 0               0              0  ...          0       0   \n4                 0               0              0  ...          0       0   \n...             ...             ...            ...  ...        ...     ...   \n29995             0               0              0  ...          0       0   \n29996             0               0              0  ...          0       0   \n29997             0               0              0  ...          0       0   \n29998             0               0              0  ...          0       0   \n29999             0               0              0  ...          0       0   \n\n       Waldeck-Rousseau   Ward la France Type 1000   Yang-Tsé   Zeppelin   \\\n0                      0                          0          0          0   \n1                      0                          0          0          0   \n2                      0                          0          0          0   \n3                      0                          0          0          0   \n4                      0                          0          0          0   \n...                  ...                        ...        ...        ...   \n29995                  0                          0          0          0   \n29996                  0                          0          0          0   \n29997                  0                          0          0          0   \n29998                  0                          0          0          0   \n29999                  0                          0          0          0   \n\n       Zodiac   Zouave   nan  Étang   \n0            0        0    0       0  \n1            0        0    0       0  \n2            0        0    0       0  \n3            0        0    0       0  \n4            0        0    0       0  \n...        ...      ...  ...     ...  \n29995        0        0    0       0  \n29996        0        0    0       0  \n29997        0        0    0       0  \n29998        0        0    0       0  \n29999        0        0    0       0  \n\n[30000 rows x 8482 columns]",
      "text/html": "<div>\n<style scoped>\n    .dataframe tbody tr th:only-of-type {\n        vertical-align: middle;\n    }\n\n    .dataframe tbody tr th {\n        vertical-align: top;\n    }\n\n    .dataframe thead th {\n        text-align: right;\n    }\n</style>\n<table border=\"1\" class=\"dataframe\">\n  <thead>\n    <tr style=\"text-align: right;\">\n      <th></th>\n      <th>\"Abeille Bourbon\"</th>\n      <th>\"Abeille Flandre\"</th>\n      <th>\"Amiral Mouchez\"</th>\n      <th>\"Andromède\"</th>\n      <th>\"Argens\"</th>\n      <th>\"Ariane\"</th>\n      <th>\"Atlantic\" (cargo)</th>\n      <th>\"Bouclier\"</th>\n      <th>\"Bourrasque\"</th>\n      <th>\"Branlebas\"</th>\n      <th>...</th>\n      <th>Vêtement</th>\n      <th>Wagon</th>\n      <th>Waldeck-Rousseau</th>\n      <th>Ward la France Type 1000</th>\n      <th>Yang-Tsé</th>\n      <th>Zeppelin</th>\n      <th>Zodiac</th>\n      <th>Zouave</th>\n      <th>nan</th>\n      <th>Étang</th>\n    </tr>\n  </thead>\n  <tbody>\n    <tr>\n      <th>0</th>\n      <td>0</td>\n      <td>0</td>\n      <td>0</td>\n      <td>0</td>\n      <td>0</td>\n      <td>0</td>\n      <td>0</td>\n      <td>0</td>\n      <td>0</td>\n      <td>0</td>\n      <td>...</td>\n      <td>0</td>\n      <td>0</td>\n      <td>0</td>\n      <td>0</td>\n      <td>0</td>\n      <td>0</td>\n      <td>0</td>\n      <td>0</td>\n      <td>0</td>\n      <td>0</td>\n    </tr>\n    <tr>\n      <th>1</th>\n      <td>0</td>\n      <td>0</td>\n      <td>0</td>\n      <td>0</td>\n      <td>0</td>\n      <td>0</td>\n      <td>0</td>\n      <td>0</td>\n      <td>0</td>\n      <td>0</td>\n      <td>...</td>\n      <td>0</td>\n      <td>0</td>\n      <td>0</td>\n      <td>0</td>\n      <td>0</td>\n      <td>0</td>\n      <td>0</td>\n      <td>0</td>\n      <td>0</td>\n      <td>0</td>\n    </tr>\n    <tr>\n      <th>2</th>\n      <td>0</td>\n      <td>0</td>\n      <td>0</td>\n      <td>0</td>\n      <td>0</td>\n      <td>0</td>\n      <td>0</td>\n      <td>0</td>\n      <td>0</td>\n      <td>0</td>\n      <td>...</td>\n      <td>0</td>\n      <td>0</td>\n      <td>0</td>\n      <td>0</td>\n      <td>0</td>\n      <td>0</td>\n      <td>0</td>\n      <td>0</td>\n      <td>0</td>\n      <td>0</td>\n    </tr>\n    <tr>\n      <th>3</th>\n      <td>0</td>\n      <td>0</td>\n      <td>0</td>\n      <td>0</td>\n      <td>0</td>\n      <td>0</td>\n      <td>0</td>\n      <td>0</td>\n      <td>0</td>\n      <td>0</td>\n      <td>...</td>\n      <td>0</td>\n      <td>0</td>\n      <td>0</td>\n      <td>0</td>\n      <td>0</td>\n      <td>0</td>\n      <td>0</td>\n      <td>0</td>\n      <td>0</td>\n      <td>0</td>\n    </tr>\n    <tr>\n      <th>4</th>\n      <td>0</td>\n      <td>0</td>\n      <td>0</td>\n      <td>0</td>\n      <td>0</td>\n      <td>0</td>\n      <td>0</td>\n      <td>0</td>\n      <td>0</td>\n      <td>0</td>\n      <td>...</td>\n      <td>0</td>\n      <td>0</td>\n      <td>0</td>\n      <td>0</td>\n      <td>0</td>\n      <td>0</td>\n      <td>0</td>\n      <td>0</td>\n      <td>0</td>\n      <td>0</td>\n    </tr>\n    <tr>\n      <th>...</th>\n      <td>...</td>\n      <td>...</td>\n      <td>...</td>\n      <td>...</td>\n      <td>...</td>\n      <td>...</td>\n      <td>...</td>\n      <td>...</td>\n      <td>...</td>\n      <td>...</td>\n      <td>...</td>\n      <td>...</td>\n      <td>...</td>\n      <td>...</td>\n      <td>...</td>\n      <td>...</td>\n      <td>...</td>\n      <td>...</td>\n      <td>...</td>\n      <td>...</td>\n      <td>...</td>\n    </tr>\n    <tr>\n      <th>29995</th>\n      <td>0</td>\n      <td>0</td>\n      <td>0</td>\n      <td>0</td>\n      <td>0</td>\n      <td>0</td>\n      <td>0</td>\n      <td>0</td>\n      <td>0</td>\n      <td>0</td>\n      <td>...</td>\n      <td>0</td>\n      <td>0</td>\n      <td>0</td>\n      <td>0</td>\n      <td>0</td>\n      <td>0</td>\n      <td>0</td>\n      <td>0</td>\n      <td>0</td>\n      <td>0</td>\n    </tr>\n    <tr>\n      <th>29996</th>\n      <td>0</td>\n      <td>0</td>\n      <td>0</td>\n      <td>0</td>\n      <td>0</td>\n      <td>0</td>\n      <td>0</td>\n      <td>0</td>\n      <td>0</td>\n      <td>0</td>\n      <td>...</td>\n      <td>0</td>\n      <td>0</td>\n      <td>0</td>\n      <td>0</td>\n      <td>0</td>\n      <td>0</td>\n      <td>0</td>\n      <td>0</td>\n      <td>0</td>\n      <td>0</td>\n    </tr>\n    <tr>\n      <th>29997</th>\n      <td>0</td>\n      <td>0</td>\n      <td>0</td>\n      <td>0</td>\n      <td>0</td>\n      <td>0</td>\n      <td>0</td>\n      <td>0</td>\n      <td>0</td>\n      <td>0</td>\n      <td>...</td>\n      <td>0</td>\n      <td>0</td>\n      <td>0</td>\n      <td>0</td>\n      <td>0</td>\n      <td>0</td>\n      <td>0</td>\n      <td>0</td>\n      <td>0</td>\n      <td>0</td>\n    </tr>\n    <tr>\n      <th>29998</th>\n      <td>0</td>\n      <td>0</td>\n      <td>0</td>\n      <td>0</td>\n      <td>0</td>\n      <td>0</td>\n      <td>0</td>\n      <td>0</td>\n      <td>0</td>\n      <td>0</td>\n      <td>...</td>\n      <td>0</td>\n      <td>0</td>\n      <td>0</td>\n      <td>0</td>\n      <td>0</td>\n      <td>0</td>\n      <td>0</td>\n      <td>0</td>\n      <td>0</td>\n      <td>0</td>\n    </tr>\n    <tr>\n      <th>29999</th>\n      <td>0</td>\n      <td>0</td>\n      <td>0</td>\n      <td>0</td>\n      <td>0</td>\n      <td>0</td>\n      <td>0</td>\n      <td>0</td>\n      <td>0</td>\n      <td>0</td>\n      <td>...</td>\n      <td>0</td>\n      <td>0</td>\n      <td>0</td>\n      <td>0</td>\n      <td>0</td>\n      <td>0</td>\n      <td>0</td>\n      <td>0</td>\n      <td>0</td>\n      <td>0</td>\n    </tr>\n  </tbody>\n</table>\n<p>30000 rows × 8482 columns</p>\n</div>"
     },
     "execution_count": 12,
     "metadata": {},
     "output_type": "execute_result"
    }
   ],
   "source": [
    "from sklearn.preprocessing import MultiLabelBinarizer\n",
    "df_light = df_mot_cle[:30000]\n",
    "mlb = MultiLabelBinarizer()\n",
    "\n",
    "res = pd.DataFrame(mlb.fit_transform(df_light),columns=mlb.classes_,index=df_light.index)\n",
    "res"
   ],
   "metadata": {
    "collapsed": false,
    "pycharm": {
     "name": "#%%\n"
    }
   }
  },
  {
   "cell_type": "code",
   "execution_count": 13,
   "outputs": [
    {
     "data": {
      "text/plain": " Arbre                           4670\n Bateau                          2018\n Entraînement                    1918\n Exercice                        1882\n Portrait                        1833\n                                 ... \n2e RPIMa                            1\n2e RZ                               1\n Formation féminine de l'air        1\n3,7 in Ordnance QF                  1\nÉtang                               1\nLength: 8482, dtype: int64"
     },
     "execution_count": 13,
     "metadata": {},
     "output_type": "execute_result"
    }
   ],
   "source": [
    "res.sum().sort_values(ascending=False)"
   ],
   "metadata": {
    "collapsed": false,
    "pycharm": {
     "name": "#%%\n"
    }
   }
  },
  {
   "cell_type": "code",
   "execution_count": 13,
   "outputs": [],
   "source": [],
   "metadata": {
    "collapsed": false,
    "pycharm": {
     "name": "#%%\n"
    }
   }
  }
 ],
 "metadata": {
  "kernelspec": {
   "display_name": "Python 3",
   "language": "python",
   "name": "python3"
  },
  "language_info": {
   "codemirror_mode": {
    "name": "ipython",
    "version": 2
   },
   "file_extension": ".py",
   "mimetype": "text/x-python",
   "name": "python",
   "nbconvert_exporter": "python",
   "pygments_lexer": "ipython2",
   "version": "2.7.6"
  }
 },
 "nbformat": 4,
 "nbformat_minor": 0
}